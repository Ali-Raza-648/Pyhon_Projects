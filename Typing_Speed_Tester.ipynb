{
 "cells": [
  {
   "cell_type": "code",
   "execution_count": 1,
   "id": "b4f9a7e3",
   "metadata": {},
   "outputs": [
    {
     "name": "stdout",
     "output_type": "stream",
     "text": [
      "Do You Want To Continue Testing (Yes/No) : Yes\n",
      "\n",
      "\n",
      "She sat in the darkened room waiting. It was now a standoff. He had the power to put her in the room, \n",
      "but not the power to make her repent. It wasn't fair and no matter how long she had to endure the darkness, \n",
      "she wouldn't change her attitude. At three years old, Sandy's stubborn personality had already bloomed into full view.\n",
      "\n",
      "\n",
      "Start Writing : She sat in the darkened room waiting.\n",
      "\n",
      "Total Mismatch Words:  0\n",
      "\n",
      "Speed =  10.77 W/m\n",
      "Do You Want To Continue Testing (Yes/No) : No\n",
      "\n",
      "\n",
      "Thanks\n"
     ]
    }
   ],
   "source": [
    "import time\n",
    "import random\n",
    "\n",
    "def error(userinp,testinp):\n",
    "    error=0\n",
    "    wrdlist1=userinp.split()\n",
    "    wrdlist2=testinp.split()\n",
    "    for i in range(len(wrdlist1)):\n",
    "        try:\n",
    "            if wrdlist1[i] != wrdlist2[i]:\n",
    "                error += 1\n",
    "        except:\n",
    "            error += 1\n",
    "    return error        \n",
    "def tp_speed(time_s,time_e,userinpt,testinpt):\n",
    "    time_d=(time_e-time_s)/60\n",
    "    time_f=round(time_d,2)\n",
    "    wrdlist3=userinpt.split()\n",
    "    speed=round((len(wrdlist3) - error(userinpt,testinpt))/time_f,2)\n",
    "    return speed\n",
    "if __name__=='__main__':\n",
    "    \n",
    "    while True:\n",
    "        a=input(\"Do You Want To Continue Testing (Yes/No) : \")\n",
    "        print(\"\")\n",
    "        print(\"\")\n",
    "        if a==\"Yes\":\n",
    "            \n",
    "            par_list = [\"She sat in the darkened room waiting. It was now a standoff. He had the power to put her in the room, \\nbut not the power to make her repent. It wasn't fair and no matter how long she had to endure the darkness, \\nshe wouldn't change her attitude. At three years old, Sandy's stubborn personality had already bloomed into full view.\",\n",
    "                       \"Dave wasn't exactly sure how he had ended up in this predicament. He ran through all the events that had \\nlead to this current situation and it still didn't make sense. He wanted to spend some time to try and make \\nsense of it all, but he had higher priorities at the moment.\",\n",
    "                       \"She needed glasses. It wasn't that she couldn't see without them, but what she could see with them. When \\nshe wore glasses, her eyes focused so deeply that she could see not only the physical but also beyond.\\nIt was like a superpower. But she needed glasses.\",\n",
    "                       \"The young man wanted a role model. He looked long and hard in his youth, but that role model never \\nmaterialized. His only choice was to embrace all the people in his life he didn't want to be like.\",\n",
    "                       \"He swung back the fishing pole and cast the line which ell 25 feet away into the river. The lure landed \\nin the perfect spot and he was sure he would soon get a bite. He never expected that the bite would come \\nfrom behind in the form of a bear.\"]\n",
    "\n",
    "            testinput=random.choice(par_list)\n",
    "            print(testinput)\n",
    "            print(\"\")\n",
    "            print(\"\")\n",
    "            time_1=time.time()\n",
    "            userinput=input(\"Start Writing : \")\n",
    "            time_2=time.time()\n",
    "            print(\"\")\n",
    "            print(\"Total Mismatch Words: \",error(userinput,testinput))\n",
    "            print(\"\")\n",
    "            print(\"Speed = \",tp_speed(time_1,time_2,userinput,testinput),\"W/m\")\n",
    "            \n",
    "        elif a==\"No\":\n",
    "            print(\"Thanks\")\n",
    "            break\n",
    "            \n",
    "        else:\n",
    "            print(\"Invalid Selection\")"
   ]
  }
 ],
 "metadata": {
  "kernelspec": {
   "display_name": "Python 3 (ipykernel)",
   "language": "python",
   "name": "python3"
  },
  "language_info": {
   "codemirror_mode": {
    "name": "ipython",
    "version": 3
   },
   "file_extension": ".py",
   "mimetype": "text/x-python",
   "name": "python",
   "nbconvert_exporter": "python",
   "pygments_lexer": "ipython3",
   "version": "3.10.5"
  }
 },
 "nbformat": 4,
 "nbformat_minor": 5
}
