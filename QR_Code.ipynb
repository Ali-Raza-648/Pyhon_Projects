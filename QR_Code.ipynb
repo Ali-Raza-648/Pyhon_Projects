{
 "cells": [
  {
   "cell_type": "code",
   "execution_count": 2,
   "id": "0048cdd4",
   "metadata": {},
   "outputs": [],
   "source": [
    "#Simple level;\n",
    "import qrcode as qr\n",
    "img=qr.make(\"https://www.youtube.com/channel/UCmGmK-VxiY6I3Q63jpY04aw\")\n",
    "img.save(\"Audio Artisans.png\")"
   ]
  },
  {
   "cell_type": "code",
   "execution_count": 11,
   "id": "dd85d63f",
   "metadata": {},
   "outputs": [],
   "source": [
    "#Advance Level\n",
    "import qrcode as qr\n",
    "import image\n",
    "a=qr.QRCode(version=1,error_correction=qr.constants.ERROR_CORRECT_H,box_size=20,border=4)\n",
    "a.add_data(\"https://www.youtube.com/channel/UCmGmK-VxiY6I3Q63jpY04aw\")\n",
    "a.make(fit=True)\n",
    "mg=a.make_image(fill_color=\"Blue\",back_color=\"green\")\n",
    "mg.save(\"Audio Artisans 2.png\")"
   ]
  }
 ],
 "metadata": {
  "kernelspec": {
   "display_name": "Python 3 (ipykernel)",
   "language": "python",
   "name": "python3"
  },
  "language_info": {
   "codemirror_mode": {
    "name": "ipython",
    "version": 3
   },
   "file_extension": ".py",
   "mimetype": "text/x-python",
   "name": "python",
   "nbconvert_exporter": "python",
   "pygments_lexer": "ipython3",
   "version": "3.10.5"
  }
 },
 "nbformat": 4,
 "nbformat_minor": 5
}
