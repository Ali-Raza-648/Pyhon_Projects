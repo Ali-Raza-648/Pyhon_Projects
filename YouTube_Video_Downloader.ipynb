{
 "cells": [
  {
   "cell_type": "code",
   "execution_count": 35,
   "id": "e9da6555",
   "metadata": {},
   "outputs": [
    {
     "name": "stdout",
     "output_type": "stream",
     "text": [
      "Paste Link Here : https://www.youtube.com/shorts/aUYj6PIUQfY\n"
     ]
    },
    {
     "name": "stderr",
     "output_type": "stream",
     "text": [
      "C:\\Users\\Ali Raza\\AppData\\Local\\Temp\\ipykernel_7632\\3751786503.py:6: DeprecationWarning: Call to deprecated function all (This object can be treated as a list, all() is useless).\n",
      "  videos=yt_1.streams.all()\n"
     ]
    },
    {
     "name": "stdout",
     "output_type": "stream",
     "text": [
      "(0, <Stream: itag=\"17\" mime_type=\"video/3gpp\" res=\"144p\" fps=\"8fps\" vcodec=\"mp4v.20.3\" acodec=\"mp4a.40.2\" progressive=\"True\" type=\"video\">)\n",
      "(1, <Stream: itag=\"18\" mime_type=\"video/mp4\" res=\"360p\" fps=\"30fps\" vcodec=\"avc1.42001E\" acodec=\"mp4a.40.2\" progressive=\"True\" type=\"video\">)\n",
      "(2, <Stream: itag=\"22\" mime_type=\"video/mp4\" res=\"720p\" fps=\"30fps\" vcodec=\"avc1.64001F\" acodec=\"mp4a.40.2\" progressive=\"True\" type=\"video\">)\n",
      "(3, <Stream: itag=\"136\" mime_type=\"video/mp4\" res=\"720p\" fps=\"30fps\" vcodec=\"avc1.4d401f\" progressive=\"False\" type=\"video\">)\n",
      "(4, <Stream: itag=\"247\" mime_type=\"video/webm\" res=\"720p\" fps=\"30fps\" vcodec=\"vp9\" progressive=\"False\" type=\"video\">)\n",
      "(5, <Stream: itag=\"135\" mime_type=\"video/mp4\" res=\"480p\" fps=\"30fps\" vcodec=\"avc1.4d401e\" progressive=\"False\" type=\"video\">)\n",
      "(6, <Stream: itag=\"244\" mime_type=\"video/webm\" res=\"480p\" fps=\"30fps\" vcodec=\"vp9\" progressive=\"False\" type=\"video\">)\n",
      "(7, <Stream: itag=\"134\" mime_type=\"video/mp4\" res=\"360p\" fps=\"30fps\" vcodec=\"avc1.4d4016\" progressive=\"False\" type=\"video\">)\n",
      "(8, <Stream: itag=\"243\" mime_type=\"video/webm\" res=\"360p\" fps=\"30fps\" vcodec=\"vp9\" progressive=\"False\" type=\"video\">)\n",
      "(9, <Stream: itag=\"133\" mime_type=\"video/mp4\" res=\"240p\" fps=\"30fps\" vcodec=\"avc1.4d400d\" progressive=\"False\" type=\"video\">)\n",
      "(10, <Stream: itag=\"242\" mime_type=\"video/webm\" res=\"240p\" fps=\"30fps\" vcodec=\"vp9\" progressive=\"False\" type=\"video\">)\n",
      "(11, <Stream: itag=\"160\" mime_type=\"video/mp4\" res=\"144p\" fps=\"30fps\" vcodec=\"avc1.4d400c\" progressive=\"False\" type=\"video\">)\n",
      "(12, <Stream: itag=\"278\" mime_type=\"video/webm\" res=\"144p\" fps=\"30fps\" vcodec=\"vp9\" progressive=\"False\" type=\"video\">)\n",
      "(13, <Stream: itag=\"139\" mime_type=\"audio/mp4\" abr=\"48kbps\" acodec=\"mp4a.40.5\" progressive=\"False\" type=\"audio\">)\n",
      "(14, <Stream: itag=\"140\" mime_type=\"audio/mp4\" abr=\"128kbps\" acodec=\"mp4a.40.2\" progressive=\"False\" type=\"audio\">)\n",
      "(15, <Stream: itag=\"249\" mime_type=\"audio/webm\" abr=\"50kbps\" acodec=\"opus\" progressive=\"False\" type=\"audio\">)\n",
      "(16, <Stream: itag=\"250\" mime_type=\"audio/webm\" abr=\"70kbps\" acodec=\"opus\" progressive=\"False\" type=\"audio\">)\n",
      "(17, <Stream: itag=\"251\" mime_type=\"audio/webm\" abr=\"160kbps\" acodec=\"opus\" progressive=\"False\" type=\"audio\">)\n",
      "\n",
      "Enter Format : 0\n",
      "Done!!\n"
     ]
    }
   ],
   "source": [
    "#for singal video\n",
    "from pytube import YouTube\n",
    "from pytube import Playlist\n",
    "link=input(\"Paste Link Here : \")\n",
    "yt_1=YouTube(link)\n",
    "#print(yt_1.title)\n",
    "#print(yt_1.thumbnail_url)\n",
    "videos=yt_1.streams.all()\n",
    "#videos=yt_1.streams.filter(only_audio=True)\n",
    "vd=list(enumerate(videos))\n",
    "for i in vd:\n",
    "     print(i)\n",
    "print(\"\")\n",
    "strm=int(input(\"Enter Format : \"))\n",
    "print(\"Download.....\")\n",
    "videos[strm].download()\n",
    "print(\"Downloading Complete!!\")\n",
    "#for play list\n",
    "link1_1=input(\"Paste Play List Link : \")\n",
    "py=Playlist(link_1)\n",
    "print(py.title)\n",
    "print(\"Download.....\")\n",
    "for video in py.videos:\n",
    "    video.streams.first().download()\n",
    "print(\"Downloading Complete!!\")"
   ]
  },
  {
   "cell_type": "code",
   "execution_count": 38,
   "id": "4a91dd28",
   "metadata": {},
   "outputs": [],
   "source": [
    "import webbrowser\n",
    "web"
   ]
  }
 ],
 "metadata": {
  "kernelspec": {
   "display_name": "Python 3 (ipykernel)",
   "language": "python",
   "name": "python3"
  },
  "language_info": {
   "codemirror_mode": {
    "name": "ipython",
    "version": 3
   },
   "file_extension": ".py",
   "mimetype": "text/x-python",
   "name": "python",
   "nbconvert_exporter": "python",
   "pygments_lexer": "ipython3",
   "version": "3.10.5"
  }
 },
 "nbformat": 4,
 "nbformat_minor": 5
}
