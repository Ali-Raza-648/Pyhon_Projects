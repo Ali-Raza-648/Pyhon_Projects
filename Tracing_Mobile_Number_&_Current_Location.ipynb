{
 "cells": [
  {
   "cell_type": "code",
   "execution_count": 32,
   "id": "114c61a4",
   "metadata": {},
   "outputs": [
    {
     "name": "stdout",
     "output_type": "stream",
     "text": [
      "Enter Phone Number +_ _ : +923419478932\n",
      "Country Code: 92 National Number: 3419478932\n",
      "Pakistan\n",
      "Telenor\n",
      "('Asia/Karachi',)\n"
     ]
    }
   ],
   "source": [
    "import phonenumbers as ph\n",
    "from phonenumbers import timezone,geocoder,carrier\n",
    "#import location\n",
    "number=input(\"Enter Phone Number +_ _ : \")\n",
    "phone=ph.parse(number)\n",
    "car=carrier.name_for_number(phone,\"en\")\n",
    "tm=timezone.time_zones_for_number(phone)\n",
    "gc=geocoder.description_for_number(phone,\"en\")\n",
    "#lc=location.location_for_number(phone,\"en\")\n",
    "print(phone)\n",
    "print(gc)\n",
    "print(car)\n",
    "print(tm)"
   ]
  },
  {
   "cell_type": "code",
   "execution_count": 31,
   "id": "7fafc4bd",
   "metadata": {},
   "outputs": [
    {
     "name": "stdout",
     "output_type": "stream",
     "text": [
      "بدو ملہی, Narowal Tehsil, پنجاب, پاکستان\n"
     ]
    }
   ],
   "source": [
    "from geopy.geocoders import Nominatim\n",
    "loc=Nominatim(user_agent='Baddomalhi')\n",
    "getLoc=loc.geocode('Baddomalhi')\n",
    "print(getLoc.address)"
   ]
  }
 ],
 "metadata": {
  "kernelspec": {
   "display_name": "Python 3 (ipykernel)",
   "language": "python",
   "name": "python3"
  },
  "language_info": {
   "codemirror_mode": {
    "name": "ipython",
    "version": 3
   },
   "file_extension": ".py",
   "mimetype": "text/x-python",
   "name": "python",
   "nbconvert_exporter": "python",
   "pygments_lexer": "ipython3",
   "version": "3.10.5"
  }
 },
 "nbformat": 4,
 "nbformat_minor": 5
}
