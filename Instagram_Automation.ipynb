{
 "cells": [
  {
   "cell_type": "code",
   "execution_count": null,
   "id": "6236845e",
   "metadata": {},
   "outputs": [
    {
     "name": "stderr",
     "output_type": "stream",
     "text": [
      "2023-06-15 12:49:47,559 - INFO - Instabot version: 0.117.0 Started\n",
      "2023-06-15 12:49:47,568 - INFO - Not yet logged in starting: PRE-LOGIN FLOW!\n",
      "2023-06-15 12:49:48,463 - ERROR - Request returns 429 error!\n",
      "2023-06-15 12:49:48,465 - WARNING - That means 'too many requests'. I'll go to sleep for 5 minutes.\n"
     ]
    }
   ],
   "source": [
    "from instabot import Bot\n",
    "bot=Bot()\n",
    "bot.login(username='the_predator_121b',password='AliRaza*99#')\n",
    "#bot.follow(\"farah6482021\")\n",
    "#bot.upload_photo(\"C:/Users/Ali Raza/Downloads/Python/Projects/Audio Artisans 2.png\")\n",
    "#bot.unfollow(\"farah6482021\")\n",
    "# bot.send_message(\"This Message send through Python 3\",[\"\",\"\"])\n",
    "# flwr=bot.get_user_followers(\"farah6482021\")\n",
    "# for i in flwr:\n",
    "#      print(bot.get_user_info(i))\n",
    "# flwg=bot.get_user_following(\"the_predator_121b\")\n",
    "# for j in flwg:\n",
    "#     print(bot.get_user_info(j))"
   ]
  }
 ],
 "metadata": {
  "kernelspec": {
   "display_name": "Python 3 (ipykernel)",
   "language": "python",
   "name": "python3"
  },
  "language_info": {
   "codemirror_mode": {
    "name": "ipython",
    "version": 3
   },
   "file_extension": ".py",
   "mimetype": "text/x-python",
   "name": "python",
   "nbconvert_exporter": "python",
   "pygments_lexer": "ipython3",
   "version": "3.10.5"
  }
 },
 "nbformat": 4,
 "nbformat_minor": 5
}
