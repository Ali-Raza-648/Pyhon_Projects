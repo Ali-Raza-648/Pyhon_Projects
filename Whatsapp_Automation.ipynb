{
 "cells": [
  {
   "cell_type": "code",
   "execution_count": null,
   "id": "ed9ebfaa",
   "metadata": {},
   "outputs": [],
   "source": [
    "import pywhatkit as pwk\n",
    "#pwk.start_server()\n",
    "j='I Love Python'\n",
    "for i in range(10):\n",
    "    i=\"I Love Python\"\n",
    "    j=j+\"\\n\"+i   \n",
    "#pwk.sendwhatmsg(\"+923423657851\",j,13,20)\n",
    "#pwk.sendwhats_image(\"+923423657851\",\"C:/Users/Ali Raza/Downloads/Python/Projects/Audio Artisans.png\",\"My QR Code\")"
   ]
  }
 ],
 "metadata": {
  "kernelspec": {
   "display_name": "Python 3 (ipykernel)",
   "language": "python",
   "name": "python3"
  },
  "language_info": {
   "codemirror_mode": {
    "name": "ipython",
    "version": 3
   },
   "file_extension": ".py",
   "mimetype": "text/x-python",
   "name": "python",
   "nbconvert_exporter": "python",
   "pygments_lexer": "ipython3",
   "version": "3.10.5"
  }
 },
 "nbformat": 4,
 "nbformat_minor": 5
}
