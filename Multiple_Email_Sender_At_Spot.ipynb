{
 "cells": [
  {
   "cell_type": "code",
   "execution_count": 15,
   "id": "27e6456f",
   "metadata": {},
   "outputs": [],
   "source": [
    "import smtplib as s\n",
    "var=s.SMTP('smtp.gmail.com',587)#587\n",
    "var.ehlo()\n",
    "var.starttls()\n",
    "var.login('2021ee25@student.uet.edu.pk','DVVU4UBS')\n",
    "subject=input('Enter Subject : ')\n",
    "body=input('Enter Body: ')\n",
    "message=\"subject:{}\\n\\n{}\".format(subject,body)\n",
    "L=[]\n",
    "num=int(input(\"How many number of people for them you prepare Email : \"))\n",
    "for i in range(1,num+1):\n",
    "    print(\"Enter Email of Person : \",i)\n",
    "    address=input()\n",
    "    L.append(address)\n",
    "var.sendmail('2021ee25@student.uet.edu.pk',L,message)\n",
    "print('Done!!')\n",
    "var.quit()"
   ]
  }
 ],
 "metadata": {
  "kernelspec": {
   "display_name": "Python 3 (ipykernel)",
   "language": "python",
   "name": "python3"
  },
  "language_info": {
   "codemirror_mode": {
    "name": "ipython",
    "version": 3
   },
   "file_extension": ".py",
   "mimetype": "text/x-python",
   "name": "python",
   "nbconvert_exporter": "python",
   "pygments_lexer": "ipython3",
   "version": "3.10.5"
  }
 },
 "nbformat": 4,
 "nbformat_minor": 5
}
