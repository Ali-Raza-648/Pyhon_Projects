{
 "cells": [
  {
   "cell_type": "code",
   "execution_count": 52,
   "id": "c2b9876a",
   "metadata": {},
   "outputs": [
    {
     "name": "stdout",
     "output_type": "stream",
     "text": [
      "Email : ra0303460@gmail.com\n",
      "Valid\n"
     ]
    }
   ],
   "source": [
    "#a-z small\n",
    "#0-9\n",
    "# @ occure one time,. at 2nd or 3rd position,\n",
    "# sign other then .,@,_ are invalid\n",
    "import re\n",
    "email_condition=\"^[a-z 0-9 ]+[\\._]?[a-z 0-9]+[@]\\w+[.]\\w{2,3}$\"\n",
    "#r\"^[a-z0-9]+([._]?[a-z0-9]+)*@[a-z0-9]+([.-]?[a-z0-9]+)*\\.[a-z]{2,3}$\"\n",
    "user_email=input(\"Email : \")\n",
    "if re.search(email_condition,user_email):\n",
    "    print(\"Valid\")\n",
    "else:\n",
    "    print(\"Invalid\")"
   ]
  }
 ],
 "metadata": {
  "kernelspec": {
   "display_name": "Python 3 (ipykernel)",
   "language": "python",
   "name": "python3"
  },
  "language_info": {
   "codemirror_mode": {
    "name": "ipython",
    "version": 3
   },
   "file_extension": ".py",
   "mimetype": "text/x-python",
   "name": "python",
   "nbconvert_exporter": "python",
   "pygments_lexer": "ipython3",
   "version": "3.10.5"
  }
 },
 "nbformat": 4,
 "nbformat_minor": 5
}
