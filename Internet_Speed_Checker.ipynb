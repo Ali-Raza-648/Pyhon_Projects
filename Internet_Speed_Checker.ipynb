{
 "cells": [
  {
   "cell_type": "code",
   "execution_count": 4,
   "id": "271c913b",
   "metadata": {},
   "outputs": [],
   "source": [
    "from tkinter import*\n",
    "import speedtest\n",
    "\n",
    "def speedcheck():\n",
    "    sp=speedtest.Speed()\n",
    "    sp.get_servers()\n",
    "    down=str(round(sp.download()/10**6,3))+\" Mb/s\"\n",
    "    up=str(round(sp.upload()/10**6,3))+\" Mb/s\"\n",
    "    lab_3.config(text=down)\n",
    "    lab_5.config(text=up)\n",
    "    \n",
    "sp=Tk()\n",
    "sp.title('Internet Speed Tester')\n",
    "sp.geometry(\"500x440\")\n",
    "sp.config(bg='black')\n",
    "lab_1=Label(sp,text=\"Internet Speed Test\",font=(\"Time New Roman\",20,\"bold\"),bg='gray',fg='white')\n",
    "lab_1.place(x=50,y=50,height=40,width=400)\n",
    "\n",
    "lab_2=Label(sp,text=\"Downloding Speed\",font=(\"Time New Roman\",15,\"bold\"),bg='gray',fg='white')\n",
    "lab_2.place(x=100,y=120,height=30,width=300)\n",
    "\n",
    "lab_3=Label(sp,text=\"000\",font=(\"Time New Roman\",20,\"bold\"),bg='gray',fg='white')\n",
    "lab_3.place(x=150,y=170,height=30,width=200)\n",
    "\n",
    "set_boton=Button(sp,text=\"Start\",relief=RAISED,command=speedcheck)\n",
    "set_boton.place(x=200,y=240,height=25,width=100)\n",
    "\n",
    "lab_4=Label(sp,text=\"Uploading Speed\",font=(\"Time New Roman\",15,\"bold\"),bg='gray',fg='white')\n",
    "lab_4.place(x=100,y=300,height=30,width=300)\n",
    "\n",
    "lab_5=Label(sp,text=\"000\",font=(\"Time New Roman\",20,\"bold\"),bg='gray',fg='white')\n",
    "lab_5.place(x=150,y=350,height=30,width=200)\n",
    "\n",
    "sp.mainloop()"
   ]
  }
 ],
 "metadata": {
  "kernelspec": {
   "display_name": "Python 3 (ipykernel)",
   "language": "python",
   "name": "python3"
  },
  "language_info": {
   "codemirror_mode": {
    "name": "ipython",
    "version": 3
   },
   "file_extension": ".py",
   "mimetype": "text/x-python",
   "name": "python",
   "nbconvert_exporter": "python",
   "pygments_lexer": "ipython3",
   "version": "3.10.5"
  }
 },
 "nbformat": 4,
 "nbformat_minor": 5
}
