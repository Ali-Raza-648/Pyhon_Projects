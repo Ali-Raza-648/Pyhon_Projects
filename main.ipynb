{
 "cells": [
  {
   "cell_type": "code",
   "execution_count": null,
   "id": "21ee77dc",
   "metadata": {},
   "outputs": [],
   "source": [
    "from kivymd.app import MDApp\n",
    "from kivymd.uix.label import MDLabel\n",
    "from PIL import Image, ImageDraw, ImageFont\n",
    "\n",
    "class Main_App(MDApp):\n",
    "    def build(self):\n",
    "        return MDLabel(text=\"UET Session 2021....\",halign=\"center\")\n",
    "\n",
    "class TextToImageConverter(object):\n",
    "    def __init__(self):\n",
    "        self.font_path = input(\"Enter the path of the writing style file in .ttf Format: \")\n",
    "        self.font_size = int(input(\"Enter font size: \"))\n",
    "        self.page_size_1 = input(\"Enter the page size (space-separated integers x y): \")\n",
    "        self.page_size = tuple(int(item) for item in self.page_size_1.split())\n",
    "        self.text_position_1 = input(\"Enter the text position (space-separated integers x y): \")\n",
    "        self.text_position = tuple(int(item) for item in self.text_position_1.split())\n",
    "\n",
    "    def create_image(self):\n",
    "        # Create a blank image with a white background\n",
    "        image = Image.new(\"RGB\", self.page_size, \"white\")\n",
    "        draw = ImageDraw.Draw(image)\n",
    "\n",
    "        # Set the font and other properties\n",
    "        font = ImageFont.truetype(self.font_path, self.font_size)\n",
    "\n",
    "        # Set the text\n",
    "        text = input(\"Enter the text or file path: \")\n",
    "        if text.endswith(\".txt\"):\n",
    "            text = open(text).read().strip()\n",
    "\n",
    "        # Draw the text on the image\n",
    "        draw.text(self.text_position, text, font=font, fill=input(\"Enter the color of the pen: \"))\n",
    "\n",
    "        # Save the image\n",
    "        image_name = input(\"Enter the image name: \")\n",
    "        image.save(image_name + \".png\")\n",
    "        print(\"Done!!\")\n",
    "\n",
    "if __name__ == '__main__':\n",
    "    Main_App().run()\n",
    "    converter = TextToImageConverter()\n",
    "    converter.create_image()"
   ]
  }
 ],
 "metadata": {
  "kernelspec": {
   "display_name": "Python 3 (ipykernel)",
   "language": "python",
   "name": "python3"
  },
  "language_info": {
   "codemirror_mode": {
    "name": "ipython",
    "version": 3
   },
   "file_extension": ".py",
   "mimetype": "text/x-python",
   "name": "python",
   "nbconvert_exporter": "python",
   "pygments_lexer": "ipython3",
   "version": "3.10.5"
  }
 },
 "nbformat": 4,
 "nbformat_minor": 5
}
