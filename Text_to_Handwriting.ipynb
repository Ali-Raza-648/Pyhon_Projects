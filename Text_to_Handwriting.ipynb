{
 "cells": [
  {
   "cell_type": "code",
   "execution_count": null,
   "id": "c5d1ae9d",
   "metadata": {},
   "outputs": [],
   "source": [
    "#Method 1\n",
    "import pywhatkit as pw\n",
    "txt=\"\"\"There are two common methods and one less common method in use.\n",
    "The common methods have already been seen in the simple linear machine and the simple rotating loop.\n",
    "The two common ways in which the speed of a shunt dc machine can be controlled are by\n",
    "1. Adjusting the field resistance RF (and thus the field flux).\n",
    "2. Adjusting the terminal voltage applied to the armature.\n",
    "The less common method of speed control is by\n",
    "3. Inserting a resistor in series with the armature circuit.\n",
    "\"\"\"\n",
    "pw.text_to_handwriting(txt,\"Method1.png\",rgb=[0,0,138])\n",
    "print(\"Done!!\")"
   ]
  },
  {
   "cell_type": "code",
   "execution_count": 18,
   "id": "b580b3c7",
   "metadata": {},
   "outputs": [
    {
     "name": "stdout",
     "output_type": "stream",
     "text": [
      "Done!!\n"
     ]
    }
   ],
   "source": [
    "#Method 2\n",
    "from PIL import Image, ImageDraw, ImageFont\n",
    "\n",
    "# Create a blank image with a white background\n",
    "image = Image.new(\"RGB\", (1200, 600), \"white\")\n",
    "draw = ImageDraw.Draw(image)\n",
    "\n",
    "# Set the font, size, and other properties\n",
    "font_path =\"learning_curve_alt_G_bold_ot_tt.ttf\" \n",
    "#\"C:/Users/Ali Raza/Downloads/OpenType TrueType/Learning Curve/learning_curve_regular_ot_tt.ttf\"\n",
    "font_size = 30\n",
    "font = ImageFont.truetype(font_path, font_size)\n",
    "\n",
    "# Set the text and position\n",
    "text = \"\"\"There are two common methods and one less common method in use.\n",
    "The common methods have already been seen in the simple linear machine and the simple rotating loop.\n",
    "The two common ways in which the speed of a shunt dc machine can be controlled are by:\n",
    "1. Adjusting the field resistance RF (and thus the field flux).\n",
    "2. Adjusting the terminal voltage applied to the armature.\n",
    "The less common method of speed control is by\n",
    "3. Inserting a resistor in series with the armature circuit.\"\"\"\n",
    "text_position = (50, 100)\n",
    "\n",
    "# Draw the text on the image\n",
    "draw.text(text_position, text, font=font, fill=\"blue\")\n",
    "\n",
    "# Save the image\n",
    "image.save(\"Method2.png\")\n",
    "print(\"Done!!\")"
   ]
  },
  {
   "cell_type": "code",
   "execution_count": 1,
   "id": "63f70d6d",
   "metadata": {},
   "outputs": [
    {
     "name": "stderr",
     "output_type": "stream",
     "text": [
      "[INFO   ] [Logger      ] Record log in C:\\Users\\Ali Raza\\.kivy\\logs\\kivy_23-06-21_3.txt\n",
      "[INFO   ] [deps        ] Successfully imported \"kivy_deps.angle\" 0.3.3\n",
      "[INFO   ] [deps        ] Successfully imported \"kivy_deps.glew\" 0.3.1\n",
      "[INFO   ] [deps        ] Successfully imported \"kivy_deps.sdl2\" 0.6.0\n",
      "[INFO   ] [Kivy        ] v2.2.1\n",
      "[INFO   ] [Kivy        ] Installed at \"C:\\Users\\Ali Raza\\AppData\\Local\\Programs\\Python\\Python310\\lib\\site-packages\\kivy\\__init__.py\"\n",
      "[INFO   ] [Python      ] v3.10.5 (tags/v3.10.5:f377153, Jun  6 2022, 16:14:13) [MSC v.1929 64 bit (AMD64)]\n",
      "[INFO   ] [Python      ] Interpreter at \"C:\\Users\\Ali Raza\\AppData\\Local\\Programs\\Python\\Python310\\python.exe\"\n",
      "[INFO   ] [Logger      ] Purge log fired. Processing...\n",
      "[INFO   ] [Logger      ] Purge finished!\n",
      "[INFO   ] [KivyMD      ] 1.1.1, git-Unknown, 2023-06-20 (installed at \"C:\\Users\\Ali Raza\\AppData\\Local\\Programs\\Python\\Python310\\lib\\site-packages\\kivymd\\__init__.py\")\n",
      "[INFO   ] [Factory     ] 190 symbols loaded\n",
      "[INFO   ] [Image       ] Providers: img_tex, img_dds, img_sdl2, img_pil (img_ffpyplayer ignored)\n",
      "[INFO   ] [Text        ] Provider: sdl2\n",
      "[INFO   ] [Window      ] Provider: sdl2\n",
      "[INFO   ] [GL          ] Using the \"OpenGL\" graphics system\n",
      "[INFO   ] [GL          ] GLEW initialization succeeded\n",
      "[INFO   ] [GL          ] No framebuffers extension is supported\n",
      "[INFO   ] [GL          ] Backend used <glew>\n",
      "[INFO   ] [GL          ] OpenGL version <b'1.1.0'>\n",
      "[INFO   ] [GL          ] OpenGL vendor <b'Microsoft Corporation'>\n",
      "[INFO   ] [GL          ] OpenGL renderer <b'GDI Generic'>\n",
      "[INFO   ] [GL          ] OpenGL parsed version: 1, 1\n",
      "[CRITICAL] [GL          ] Minimum required OpenGL version (2.0) NOT found!\n",
      "\n",
      "OpenGL version detected: 1.1\n",
      "\n",
      "Version: b'1.1.0'\n",
      "Vendor: b'Microsoft Corporation'\n",
      "Renderer: b'GDI Generic'\n",
      "\n",
      "Try upgrading your graphics drivers and/or your graphics hardware in case of problems.\n",
      "\n",
      "The application will leave now.\n"
     ]
    },
    {
     "ename": "SystemExit",
     "evalue": "1",
     "output_type": "error",
     "traceback": [
      "An exception has occurred, use %tb to see the full traceback.\n",
      "\u001b[1;31mSystemExit\u001b[0m\u001b[1;31m:\u001b[0m 1\n"
     ]
    },
    {
     "name": "stderr",
     "output_type": "stream",
     "text": [
      " C:\\Users\\Ali Raza\\AppData\\Local\\Programs\\Python\\Python310\\lib\\site-packages\\IPython\\core\\interactiveshell.py:3406: UserWarning: To exit: use 'exit', 'quit', or Ctrl-D.\n",
      "   warn(\"To exit: use 'exit', 'quit', or Ctrl-D.\", stacklevel=1)\n"
     ]
    }
   ],
   "source": [
    "from kivymd.app import MDApp\n",
    "from kivymd.uix.label import MDLabel\n",
    "from PIL import Image, ImageDraw, ImageFont\n",
    "import time\n",
    "\n",
    "class Main_App(MDApp):\n",
    "    def build(self):\n",
    "        return MDLabel(\"UET Session 2021....\")\n",
    "class TextToImageConverter(object):    \n",
    "    def __init__(self):\n",
    "        self.font_path = input(\"Enter the path of writing style file path in .ttf Format: \")\n",
    "        self.font_size = int(input(\"Enter font size : \"))\n",
    "        self.page_size_1=input(\"Enter the Page size : space separated integers x y  : \")\n",
    "        self.page_size=tuple(int(item) for item in self.page_size_1.split())\n",
    "        self.text_position_1 = input(\"Enter the text Postion : space separated integersx y : \")\n",
    "        self.text_position=tuple(int(item) for item in self.text_position_1.split())\n",
    "        \n",
    "    def create_image(self):\n",
    "        # Create a blank image with a white background\n",
    "        image = Image.new(\"RGB\",self.page_size, \"white\")\n",
    "        draw = ImageDraw.Draw(image)\n",
    "\n",
    "        # Set the font and other properties\n",
    "        font = ImageFont.truetype(self.font_path, self.font_size)\n",
    "\n",
    "        # Set the text\n",
    "        text =open(input(\"Enter text or file Path : \")).read().strip()\n",
    "\n",
    "        # Draw the text on the image\n",
    "        draw.text(self.text_position, text, font=font, fill=input(\"Enter Color of Pen : \"))\n",
    "\n",
    "        # Save the image\n",
    "        print(\"Enter image name : \")\n",
    "        image.save(input()+\".png\")\n",
    "        print(\"Done!!\")\n",
    "\n",
    "# Create an instance of the class and call the method\n",
    "if __name__=='__main__':\n",
    "    Main_App.run()\n",
    "    time.sleep(10)\n",
    "    converter = TextToImageConverter()\n",
    "    converter.create_image()"
   ]
  }
 ],
 "metadata": {
  "kernelspec": {
   "display_name": "Python 3 (ipykernel)",
   "language": "python",
   "name": "python3"
  },
  "language_info": {
   "codemirror_mode": {
    "name": "ipython",
    "version": 3
   },
   "file_extension": ".py",
   "mimetype": "text/x-python",
   "name": "python",
   "nbconvert_exporter": "python",
   "pygments_lexer": "ipython3",
   "version": "3.10.5"
  }
 },
 "nbformat": 4,
 "nbformat_minor": 5
}
